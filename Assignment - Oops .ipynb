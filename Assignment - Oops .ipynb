{
 "cells": [
  {
   "cell_type": "raw",
   "id": "c5f460e2-b437-4cb8-8fb4-5c67d5bf64cb",
   "metadata": {},
   "source": [
    "OPPs:-"
   ]
  },
  {
   "cell_type": "code",
   "execution_count": 9,
   "id": "5747e60e-b516-425c-99ea-8f25b3bd57ff",
   "metadata": {},
   "outputs": [],
   "source": [
    "\"\"\"\n",
    "Problem 1: Bank Account Create a class representing a bank account with attributes like account number, account holder name,\n",
    "and balance. Implement methods to deposit and withdraw money from the account.\n",
    "\"\"\"\n",
    "class bank_account:\n",
    "    def open_account(self,account_number,account_holder_name,balence):\n",
    "        print(\"open an account by taking name and mail id \")\n",
    "        return account_number + account_holder_name + balence\n",
    "    def deposit(self,deposit_amount):\n",
    "        print(\"I am trying to deposite  an amount in my account\")\n",
    "    \n",
    "    def withdraw(self,withdraw_amount):\n",
    "        print(\"I want to withdraw an amount in my account\")\n",
    "      "
   ]
  },
  {
   "cell_type": "code",
   "execution_count": 10,
   "id": "5efe3739-3c74-49cc-9855-ef4355f392b9",
   "metadata": {},
   "outputs": [
    {
     "name": "stdout",
     "output_type": "stream",
     "text": [
      "open an account by taking name and mail id \n",
      "I am trying to deposite  an amount in my account\n"
     ]
    }
   ],
   "source": [
    "manimay=bank_account()\n",
    "manimay.open_account(\"Account number : 1234567891\",\"   Account holder name : Manimay Dey   \", \"Balence :12345\")\n",
    "manimay.deposit(1234)"
   ]
  },
  {
   "cell_type": "code",
   "execution_count": 14,
   "id": "dc80d115-78d9-41b1-a673-e787f2dc9ec7",
   "metadata": {},
   "outputs": [],
   "source": [
    "\"\"\"\n",
    "Problem 2: Employee Management Create a class representing an employee with attributes like employee ID, name, and salary. \n",
    "Implement methods to calculate the yearly bonus and display employee details.\n",
    "\"\"\"\n",
    "class Employee_Management:\n",
    "    def employee_details(self,employee_ID, name,):\n",
    "        print(\"Employee ID : \",employee_ID)\n",
    "        print(\"Name : \",name)\n",
    "       \n",
    "    def calculate_yearly_bonus(self, salary,bonus_percentage):\n",
    "        if 0 <= bonus_percentage <= 100:\n",
    "            bonus = (bonus_percentage / 100) * salary\n",
    "            print( \"Bonus is Rs\",bonus)\n",
    "        else:\n",
    "            print(\"No bonus\")\n",
    "        \n"
   ]
  },
  {
   "cell_type": "code",
   "execution_count": 15,
   "id": "134c8cdc-6970-4088-babc-a290479d7df8",
   "metadata": {},
   "outputs": [
    {
     "name": "stdout",
     "output_type": "stream",
     "text": [
      "Employee ID :  12345\n",
      "Name :  manimay\n",
      "Bonus is Rs 5000.0\n"
     ]
    }
   ],
   "source": [
    "manimay =Employee_Management()\n",
    "manimay.employee_details(12345,\"manimay\")\n",
    "manimay.calculate_yearly_bonus(100000,5)"
   ]
  },
  {
   "cell_type": "code",
   "execution_count": 2,
   "id": "09dd0373-1eed-4814-81e5-9ae0f5e1d205",
   "metadata": {},
   "outputs": [],
   "source": [
    "\"\"\"\n",
    "Problem 3: Vehicle Rental Create a class representing a vehicle rental system. Implement methods to rent a vehicle, return a vehicle, \n",
    "and display available vehicles.\n",
    "\"\"\"\n",
    "class VehicleRentalSystem:\n",
    "    def rent_vehicle(self,rent_vehicle):\n",
    "        print(\"I want to rent a vehicle\")\n",
    "    def  return_vehicle(self, return_vehicle):\n",
    "        print(\"return vehicle\")\n",
    "    def display_available_vehicles(self,*args) :\n",
    "        print(\"Available vehiclees : \",*args)"
   ]
  },
  {
   "cell_type": "code",
   "execution_count": 3,
   "id": "2eba5370-1adc-4d80-8bd7-eb55454ceb5d",
   "metadata": {},
   "outputs": [
    {
     "name": "stdout",
     "output_type": "stream",
     "text": [
      "Available vehiclees :  Tata  maruti\n"
     ]
    }
   ],
   "source": [
    "manimay=VehicleRentalSystem()\n",
    "manimay.display_available_vehicles(\"Tata\" ,\" maruti\")"
   ]
  },
  {
   "cell_type": "code",
   "execution_count": 9,
   "id": "5503e1c0-c0ed-43d4-844a-ddf6c9d8c03e",
   "metadata": {},
   "outputs": [],
   "source": [
    "#Problem 4: Library Catalog Create classes representing a library and a book. Implement methods to add books to the library, borrow books, and display available books.\n",
    "class Book:\n",
    "    def add_book(self, add_book):\n",
    "        print(\"Added books are  :\", add_book)\n",
    "    def borrow_book(self,borrow):\n",
    "        print(\"borrow books are \",borrow)\n",
    "    def available_book(self,*available):\n",
    "        print(\"Available books : \",*available)"
   ]
  },
  {
   "cell_type": "code",
   "execution_count": 14,
   "id": "37436693-0bd8-4d1d-8395-b41d34979a39",
   "metadata": {},
   "outputs": [
    {
     "name": "stdout",
     "output_type": "stream",
     "text": [
      "Available books :  F. Scott Fitzgerald, 'The Great Gatsby' ...\n",
      "Emily Brontë, 'Wuthering Heights' Emily Brontë, 'Wuthering Heights' ...\n",
      "Margaret Atwood, 'The Handmaid's Tale' ...\n",
      "Chinua Achebe, 'Things Fall Apart' ...\n",
      "George Orwell, '1984' ...\n",
      "Toni Morrison, 'Beloved' ...\n",
      "J.D. Salinger, 'The Catcher in the Rye' ...\n",
      "Charles Dickens, 'Great Expectations\n"
     ]
    }
   ],
   "source": [
    "manimay = Book()\n",
    "manimay.available_book('''F. Scott Fitzgerald, 'The Great Gatsby' ...\n",
    "Emily Brontë, 'Wuthering Heights' Emily Brontë, 'Wuthering Heights' ...\n",
    "Margaret Atwood, 'The Handmaid's Tale' ...\n",
    "Chinua Achebe, 'Things Fall Apart' ...\n",
    "George Orwell, '1984' ...\n",
    "Toni Morrison, 'Beloved' ...\n",
    "J.D. Salinger, 'The Catcher in the Rye' ...\n",
    "Charles Dickens, 'Great Expectations''')\n",
    "\n"
   ]
  },
  {
   "cell_type": "code",
   "execution_count": 13,
   "id": "9c0341d2-3dc3-4b7e-a5be-5f9f323dd540",
   "metadata": {},
   "outputs": [
    {
     "name": "stdout",
     "output_type": "stream",
     "text": [
      "Added books are  : Deep Learning with Python.\n"
     ]
    }
   ],
   "source": [
    "manimay.add_book(\"Deep Learning with Python.\")"
   ]
  },
  {
   "cell_type": "code",
   "execution_count": 15,
   "id": "01d726ce-bfe7-426a-8775-5fe3e7c1c864",
   "metadata": {},
   "outputs": [
    {
     "name": "stdout",
     "output_type": "stream",
     "text": [
      "borrow books are  Big Data.\n"
     ]
    }
   ],
   "source": [
    "manimay.borrow_book(\"Big Data.\")"
   ]
  },
  {
   "cell_type": "code",
   "execution_count": 5,
   "id": "3d781cbb-f453-468d-83d2-86916580e869",
   "metadata": {},
   "outputs": [
    {
     "name": "stdout",
     "output_type": "stream",
     "text": [
      "Item Details:\n",
      "Product Name: Laptop, Stock Count: 100, Price: 50000.0\n",
      "Product Name: Mobile, Stock Count: 110, Price: 15000.0\n",
      "Product Name: Desktop, Stock Count: 120, Price: 55500.0\n",
      "Product Name: Tablet, Stock Count: 90, Price: 35990.0\n",
      "\n",
      "Update the price of item code - 'I001':\n",
      "Product Name: Laptop, Stock Count: 100, Price: 50000.0\n",
      "\n",
      "Update the stock of item code - 'I003':\n",
      "Product Name: Desktop, Stock Count: 115, Price: 55500.0\n"
     ]
    }
   ],
   "source": [
    "\"\"\"\n",
    "Problem 5: Product Inventory Create classes representing a product and an inventory system. Implement methods to\n",
    "add products to the inventory, update product quantity, and display available products.\n",
    "\"\"\"\n",
    "class Inventory:\n",
    "    def __init__(self):\n",
    "        self.inventory = {}\n",
    "    def add_item(self, item_id, item_name, stock_count, price):\n",
    "        self.inventory[item_id] = {\"item_name\": item_name, \"stock_count\": stock_count, \"price\": price}\n",
    "\n",
    "    def update_item(self, item_id, stock_count, price):\n",
    "        if item_id in self.inventory:\n",
    "            self.inventory[item_id][\"stock_count\"] = stock_count\n",
    "            self.inventory[item_id][\"price\"] = price\n",
    "        else:\n",
    "            print(\"Item not found in inventory.\")\n",
    "\n",
    "    def check_item_details(self, item_id):\n",
    "        if item_id in self.inventory:\n",
    "            item = self.inventory[item_id]\n",
    "            return f\"Product Name: {item['item_name']}, Stock Count: {item['stock_count']}, Price: {item['price']}\"\n",
    "        else:\n",
    "            return \"Item not found in inventory.\"\n",
    "\n",
    "inventory = Inventory()\n",
    "\n",
    "inventory.add_item(\"I001\", \"Laptop\", 100, 50000.00)\n",
    "inventory.add_item(\"I002\", \"Mobile\", 110, 15000.00)\n",
    "inventory.add_item(\"I003\", \"Desktop\", 120, 55500.00)\n",
    "inventory.add_item(\"I004\", \"Tablet\", 90, 35990.00)\n",
    "print(\"Item Details:\")\n",
    "print(inventory.check_item_details(\"I001\"))\n",
    "print(inventory.check_item_details(\"I002\"))\n",
    "print(inventory.check_item_details(\"I003\"))\n",
    "print(inventory.check_item_details(\"I004\"))\n",
    "print(\"\\nUpdate the price of item code - 'I001':\")\n",
    "inventory.update_item(\"I001\", 100, 50000.00)\n",
    "print(inventory.check_item_details(\"I001\"))\n",
    "print(\"\\nUpdate the stock of item code - 'I003':\")\n",
    "inventory.update_item(\"I003\", 115, 55500.00)\n",
    "print(inventory.check_item_details(\"I003\"))\n"
   ]
  },
  {
   "cell_type": "code",
   "execution_count": null,
   "id": "a04ce9bb-a0d7-4c8b-a201-363e546e246e",
   "metadata": {},
   "outputs": [],
   "source": [
    "'''\n",
    "Problem 6: Shape Calculation Create a class representing a shape with attributes like length, width, and height. Implement methods\n",
    "to calculate the area and perimeter of the shape.'''\n",
    "class Shape:\n",
    "    def __init__(self, length, width=None, height=None):\n",
    "        self.length = length\n",
    "        self.width = width\n",
    "        self.height = height\n",
    "\n",
    "    def calculate_area(self):\n",
    "        pass  # Subclasses will implement this method\n",
    "\n",
    "    def calculate_perimeter(self):\n",
    "        pass  # Subclasses will implement this method\n",
    "\n",
    "class Rectangle(Shape):\n",
    "    def calculate_area(self):\n",
    "        return self.length * self.width\n",
    "\n",
    "    def calculate_perimeter(self):\n",
    "        return 2 * (self.length + self.width)\n",
    "\n",
    "class Triangle(Shape):\n",
    "    def calculate_area(self):\n",
    "        return 0.5 * self.base * self.height\n",
    "\n",
    "    def calculate_perimeter(self):\n",
    "        return self.length + self.width + self.height\n",
    "\n",
    "# Example usage:\n",
    "if __name__ == \"__main__\":\n",
    "    rectangle = Rectangle(5, 3)\n",
    "    print(f\"Rectangle Area: {rectangle.calculate_area()}\")\n",
    "    print(f\"Rectangle Perimeter: {rectangle.calculate_perimeter()}\")\n",
    "\n",
    "    triangle = Triangle(4, 3, 5)\n",
    "    print(f\"Triangle Area: {triangle.calculate_area()}\")\n",
    "    print(f\"Triangle Perimeter: {triangle.calculate_perimeter()}\")\n"
   ]
  },
  {
   "cell_type": "code",
   "execution_count": 8,
   "id": "31088362-9f5f-4c4b-9c19-1ff05c16ea53",
   "metadata": {},
   "outputs": [
    {
     "name": "stdout",
     "output_type": "stream",
     "text": [
      "Student ID: 1\n",
      "Name: Ram\n",
      "Grades: 85, 90\n",
      "Average Grade: 87.5\n",
      "\n",
      "Student ID: 2\n",
      "Name: Bablu\n",
      "Grades: 78, 92, 88\n",
      "Average Grade: 86.0\n"
     ]
    }
   ],
   "source": [
    "'''\n",
    "Problem 7: Student Management Create a class representing a student with attributes like student ID, name, and grades. Implement \n",
    "methods to calculate the average grade and display student details.'''\n",
    "\n",
    "class Student:\n",
    "    def __init__(self, student_id, name):\n",
    "        self.student_id = student_id\n",
    "        self.name = name\n",
    "        self.grades = []\n",
    "\n",
    "    def add_grade(self, grade):\n",
    "        self.grades.append(grade)\n",
    "\n",
    "    def calculate_average_grade(self):\n",
    "        if not self.grades:\n",
    "            return 0.0\n",
    "        return sum(self.grades) / len(self.grades)\n",
    "\n",
    "    def display_student_details(self):\n",
    "        print(f\"Student ID: {self.student_id}\")\n",
    "        print(f\"Name: {self.name}\")\n",
    "        if self.grades:\n",
    "            print(f\"Grades: {', '.join(map(str, self.grades))}\")\n",
    "            print(f\"Average Grade: {self.calculate_average_grade()}\")\n",
    "        else:\n",
    "            print(\"No grades available for this student.\")\n",
    "\n",
    "# Example usage:\n",
    "if __name__ == \"__main__\":\n",
    "    student1 = Student(1, \"Ram\")\n",
    "    student1.add_grade(85)\n",
    "    student1.add_grade(90)\n",
    "\n",
    "    student2 = Student(2, \"Bablu\")\n",
    "    student2.add_grade(78)\n",
    "    student2.add_grade(92)\n",
    "    student2.add_grade(88)\n",
    "\n",
    "    student1.display_student_details()\n",
    "    print()\n",
    "    student2.display_student_details()\n"
   ]
  },
  {
   "cell_type": "code",
   "execution_count": 10,
   "id": "d4d2773f-56dd-4756-8f8e-3041d8841229",
   "metadata": {},
   "outputs": [
    {
     "name": "stdout",
     "output_type": "stream",
     "text": [
      "Email Details:\n",
      "Sender: boma@example.com\n",
      "Recipient: coma@example.com\n",
      "Subject: Meeting Agenda\n",
      "Body: Hello Bob, here is the meeting agenda.\n",
      "Status: Draft\n",
      "Email sent from boma@example.com to coma@example.com\n",
      "Email Details:\n",
      "Sender: boma@example.com\n",
      "Recipient: coma@example.com\n",
      "Subject: Meeting Agenda\n",
      "Body: Hello Bob, here is the meeting agenda.\n",
      "Status: Sent\n",
      "This email has already been sent.\n"
     ]
    }
   ],
   "source": [
    "'''\n",
    "Problem 8: Email Management Create a class representing an email with attributes like sender, recipient, and subject. Implement methods\n",
    "to send an email and display email details. '''\n",
    "\n",
    "class Email:\n",
    "    def __init__(self, sender, recipient, subject, body):\n",
    "        self.sender = sender\n",
    "        self.recipient = recipient\n",
    "        self.subject = subject\n",
    "        self.body = body\n",
    "        self.sent = False\n",
    "\n",
    "    def send_email(self):\n",
    "        if not self.sent:\n",
    "            print(f\"Email sent from {self.sender} to {self.recipient}\")\n",
    "            self.sent = True\n",
    "        else:\n",
    "            print(\"This email has already been sent.\")\n",
    "\n",
    "    def display_email_details(self):\n",
    "        print(\"Email Details:\")\n",
    "        print(f\"Sender: {self.sender}\")\n",
    "        print(f\"Recipient: {self.recipient}\")\n",
    "        print(f\"Subject: {self.subject}\")\n",
    "        print(f\"Body: {self.body}\")\n",
    "        print(\"Status: Sent\" if self.sent else \"Status: Draft\")\n",
    "\n",
    "# Example usage:\n",
    "if __name__ == \"__main__\":\n",
    "    email = Email(sender=\"boma@example.com\", recipient=\"coma@example.com\", subject=\"Meeting Agenda\", body=\"Hello Bob, here is the meeting agenda.\")\n",
    "    email.display_email_details()\n",
    "\n",
    "    email.send_email()\n",
    "    email.display_email_details()\n",
    "\n",
    "    email.send_email()\n"
   ]
  },
  {
   "cell_type": "code",
   "execution_count": 12,
   "id": "3ac0e540-31af-4fb0-933e-c0132e2105be",
   "metadata": {},
   "outputs": [
    {
     "name": "stdout",
     "output_type": "stream",
     "text": [
      "mani123's posts:\n",
      "- Hello, this is my first post!\n",
      "- Enjoying a sunny day. #sunshine\n",
      "- Exploring new places with friends.\n",
      "Posts containing 'sunny':\n",
      "- Enjoying a sunny day. #sunshine\n",
      "No posts containing 'food' found.\n"
     ]
    }
   ],
   "source": [
    "'''\n",
    "Problem 9: Social Media Profile Create a class representing a social media profile with attributes like username and posts.\n",
    "Implement methods to add posts, display posts, and search for posts by keyword.'''\n",
    "\n",
    "class SocialMediaProfile:\n",
    "    def __init__(self, username):\n",
    "        self.username = username\n",
    "        self.posts = []\n",
    "\n",
    "    def add_post(self, post_text):\n",
    "        self.posts.append(post_text)\n",
    "\n",
    "    def display_posts(self):\n",
    "        print(f\"{self.username}'s posts:\")\n",
    "        for post in self.posts:\n",
    "            print(f\"- {post}\")\n",
    "\n",
    "    def search_posts(self, keyword):\n",
    "        matching_posts = [post for post in self.posts if keyword in post]\n",
    "        if matching_posts:\n",
    "            print(f\"Posts containing '{keyword}':\")\n",
    "            for post in matching_posts:\n",
    "                print(f\"- {post}\")\n",
    "        else:\n",
    "            print(f\"No posts containing '{keyword}' found.\")\n",
    "\n",
    "# Example usage:\n",
    "if __name__ == \"__main__\":\n",
    "    profile = SocialMediaProfile(\"mani123\")\n",
    "\n",
    "    profile.add_post(\"Hello, this is my first post!\")\n",
    "    profile.add_post(\"Enjoying a sunny day. #sunshine\")\n",
    "    profile.add_post(\"Exploring new places with friends.\")\n",
    "\n",
    "    profile.display_posts()\n",
    "\n",
    "    profile.search_posts(\"sunny\")\n",
    "    profile.search_posts(\"food\")\n"
   ]
  },
  {
   "cell_type": "code",
   "execution_count": 13,
   "id": "b65497b7-7854-4a51-a4ce-cd3c78143914",
   "metadata": {},
   "outputs": [
    {
     "name": "stdout",
     "output_type": "stream",
     "text": [
      "Pending Tasks:\n",
      "- Task: Buy groceries, Due Date: 2023-11-10\n",
      "- Task: Finish report, Due Date: 2023-11-15\n",
      "- Task: Exercise, Due Date: 2023-11-12\n",
      "Pending Tasks:\n",
      "- Task: Buy groceries, Due Date: 2023-11-10\n",
      "- Task: Finish report, Due Date: 2023-11-15\n"
     ]
    }
   ],
   "source": [
    "'''\n",
    "Problem 10: ToDo List Create a class representing a ToDo list with attributes like tasks and due dates. Implement methods \n",
    "to add tasks, mark tasks as completed, and display pending tasks.'''\n",
    "\n",
    "class ToDoList:\n",
    "    def __init__(self):\n",
    "        self.tasks = []\n",
    "\n",
    "    def add_task(self, task, due_date):\n",
    "        self.tasks.append({\"task\": task, \"due_date\": due_date, \"completed\": False})\n",
    "\n",
    "    def mark_task_as_completed(self, task):\n",
    "        for t in self.tasks:\n",
    "            if t[\"task\"] == task:\n",
    "                t[\"completed\"] = True\n",
    "\n",
    "    def display_pending_tasks(self):\n",
    "        pending_tasks = [task for task in self.tasks if not task[\"completed\"]]\n",
    "        if pending_tasks:\n",
    "            print(\"Pending Tasks:\")\n",
    "            for task in pending_tasks:\n",
    "                print(f\"- Task: {task['task']}, Due Date: {task['due_date']}\")\n",
    "        else:\n",
    "            print(\"No pending tasks in the ToDo list.\")\n",
    "\n",
    "# Example usage:\n",
    "if __name__ == \"__main__\":\n",
    "    todo_list = ToDoList()\n",
    "\n",
    "    todo_list.add_task(\"Buy groceries\", \"2023-11-10\")\n",
    "    todo_list.add_task(\"Finish report\", \"2023-11-15\")\n",
    "    todo_list.add_task(\"Exercise\", \"2023-11-12\")\n",
    "\n",
    "    todo_list.display_pending_tasks()\n",
    "\n",
    "    todo_list.mark_task_as_completed(\"Exercise\")\n",
    "\n",
    "    todo_list.display_pending_tasks()\n"
   ]
  },
  {
   "cell_type": "code",
   "execution_count": null,
   "id": "bbf7752c-f216-4a85-a02a-6df97af7e4ea",
   "metadata": {},
   "outputs": [],
   "source": []
  }
 ],
 "metadata": {
  "kernelspec": {
   "display_name": "Python 3 (ipykernel)",
   "language": "python",
   "name": "python3"
  },
  "language_info": {
   "codemirror_mode": {
    "name": "ipython",
    "version": 3
   },
   "file_extension": ".py",
   "mimetype": "text/x-python",
   "name": "python",
   "nbconvert_exporter": "python",
   "pygments_lexer": "ipython3",
   "version": "3.10.8"
  }
 },
 "nbformat": 4,
 "nbformat_minor": 5
}
